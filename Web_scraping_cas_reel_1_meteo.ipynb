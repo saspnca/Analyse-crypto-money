{
 "cells": [
  {
   "cell_type": "markdown",
   "metadata": {},
   "source": [
    "##  Site météo"
   ]
  },
  {
   "cell_type": "code",
   "execution_count": 1,
   "metadata": {},
   "outputs": [],
   "source": [
    "# il faut en amont bien inspecter le site web (dans ce cas l'ID seven-day-forecast et le deuxieme tombstone-container)"
   ]
  },
  {
   "cell_type": "code",
   "execution_count": 6,
   "metadata": {},
   "outputs": [],
   "source": [
    "import requests\n",
    "from bs4 import BeautifulSoup"
   ]
  },
  {
   "cell_type": "code",
   "execution_count": 8,
   "metadata": {},
   "outputs": [
    {
     "name": "stdout",
     "output_type": "stream",
     "text": [
      "<div class=\"tombstone-container\">\n",
      " <p class=\"period-name\">\n",
      "  Overnight\n",
      "  <br/>\n",
      "  <br/>\n",
      " </p>\n",
      " <p>\n",
      "  <img alt=\"Overnight: Showers and possibly a thunderstorm.  Low around 53. West southwest wind around 14 mph, with gusts as high as 18 mph.  Chance of precipitation is 90%. New rainfall amounts of less than a tenth of an inch, except higher amounts possible in thunderstorms. \" class=\"forecast-icon\" src=\"newimages/medium/nshra90.png\" title=\"Overnight: Showers and possibly a thunderstorm.  Low around 53. West southwest wind around 14 mph, with gusts as high as 18 mph.  Chance of precipitation is 90%. New rainfall amounts of less than a tenth of an inch, except higher amounts possible in thunderstorms. \"/>\n",
      " </p>\n",
      " <p class=\"short-desc\">\n",
      "  Showers\n",
      " </p>\n",
      " <p class=\"temp temp-low\">\n",
      "  Low: 53 °F\n",
      " </p>\n",
      "</div>\n"
     ]
    }
   ],
   "source": [
    "page = requests.get(\"https://forecast.weather.gov/MapClick.php?lat=37.7772&lon=-122.4168#.XN1hVI4zaUn\")\n",
    "soup = BeautifulSoup(page.content, 'html.parser')\n",
    "seven_day = soup.find(id=\"seven-day-forecast\")\n",
    "forecast_items = seven_day.find_all(class_=\"tombstone-container\")\n",
    "today = forecast_items[0]\n",
    "print(today.prettify())"
   ]
  },
  {
   "cell_type": "markdown",
   "metadata": {},
   "source": [
    "## Extraire toutes les onformations d'un élément"
   ]
  },
  {
   "cell_type": "code",
   "execution_count": 9,
   "metadata": {},
   "outputs": [],
   "source": [
    "# Extraire le nom de l'objet forecast, la courte description et la température"
   ]
  },
  {
   "cell_type": "code",
   "execution_count": 11,
   "metadata": {},
   "outputs": [
    {
     "name": "stdout",
     "output_type": "stream",
     "text": [
      "Overnight\n",
      "Showers\n",
      "Low: 53 °F\n"
     ]
    }
   ],
   "source": [
    "period = today.find(class_=\"period-name\").get_text()\n",
    "short_desc = today.find(class_=\"short-desc\").get_text()\n",
    "temp = today.find(class_=\"temp\").get_text()\n",
    "print(period)\n",
    "print(short_desc)\n",
    "print(temp)"
   ]
  },
  {
   "cell_type": "code",
   "execution_count": 12,
   "metadata": {},
   "outputs": [
    {
     "name": "stdout",
     "output_type": "stream",
     "text": [
      "<img alt=\"Overnight: Showers and possibly a thunderstorm.  Low around 53. West southwest wind around 14 mph, with gusts as high as 18 mph.  Chance of precipitation is 90%. New rainfall amounts of less than a tenth of an inch, except higher amounts possible in thunderstorms. \" class=\"forecast-icon\" src=\"newimages/medium/nshra90.png\" title=\"Overnight: Showers and possibly a thunderstorm.  Low around 53. West southwest wind around 14 mph, with gusts as high as 18 mph.  Chance of precipitation is 90%. New rainfall amounts of less than a tenth of an inch, except higher amounts possible in thunderstorms. \"/>\n"
     ]
    }
   ],
   "source": [
    "# Extraire le titre de l'objet img\n",
    "img = today.find(\"img\")\n",
    "print(img)"
   ]
  },
  {
   "cell_type": "code",
   "execution_count": 13,
   "metadata": {},
   "outputs": [
    {
     "name": "stdout",
     "output_type": "stream",
     "text": [
      "Overnight: Showers and possibly a thunderstorm.  Low around 53. West southwest wind around 14 mph, with gusts as high as 18 mph.  Chance of precipitation is 90%. New rainfall amounts of less than a tenth of an inch, except higher amounts possible in thunderstorms. \n"
     ]
    }
   ],
   "source": [
    "desc = img['title'] # im est un dictionnaire, on récupère title avec un []\n",
    "print(desc)"
   ]
  },
  {
   "cell_type": "markdown",
   "metadata": {},
   "source": [
    "## Extraire toute les informations de la page"
   ]
  },
  {
   "cell_type": "code",
   "execution_count": 15,
   "metadata": {},
   "outputs": [
    {
     "name": "stdout",
     "output_type": "stream",
     "text": [
      "['Overnight', 'Thursday', 'ThursdayNight', 'Friday', 'FridayNight', 'Saturday', 'SaturdayNight', 'Sunday', 'SundayNight']\n"
     ]
    }
   ],
   "source": [
    "period_tags = seven_day.select(\".tombstone-container .period-name\")\n",
    "# On parcourt tous les éléments de period_tags et pour chaque élément on applique la méthode get_text()\n",
    "# On obtient une liste\n",
    "periods = [pt.get_text() for pt in period_tags]\n",
    "print(periods)"
   ]
  },
  {
   "cell_type": "code",
   "execution_count": 16,
   "metadata": {},
   "outputs": [
    {
     "name": "stdout",
     "output_type": "stream",
     "text": [
      "['Showers', 'Showers', 'Chance Rainthen SlightChance Rain', 'GradualClearing', 'Mostly Cloudy', 'Rain', 'Showers', 'ChanceShowers thenSlight ChanceT-storms', 'Slight ChanceT-storms']\n",
      "['Low: 53 °F', 'High: 56 °F', 'Low: 52 °F', 'High: 60 °F', 'Low: 52 °F', 'High: 58 °F', 'Low: 53 °F', 'High: 59 °F', 'Low: 51 °F']\n",
      "['Overnight: Showers and possibly a thunderstorm.  Low around 53. West southwest wind around 14 mph, with gusts as high as 18 mph.  Chance of precipitation is 90%. New rainfall amounts of less than a tenth of an inch, except higher amounts possible in thunderstorms. ', 'Thursday: Showers and possibly a thunderstorm.  High near 56. West southwest wind 14 to 17 mph, with gusts as high as 23 mph.  Chance of precipitation is 90%. New rainfall amounts between a quarter and half of an inch possible. ', 'Thursday Night: A 50 percent chance of rain, mainly before 11pm.  Cloudy, with a low around 52. West wind 13 to 17 mph, with gusts as high as 23 mph.  New precipitation amounts of less than a tenth of an inch possible. ', 'Friday: Cloudy through mid morning, then gradual clearing, with a high near 60. West wind 11 to 13 mph. ', 'Friday Night: Mostly cloudy, with a low around 52. West wind 8 to 13 mph becoming light  after midnight. ', 'Saturday: Rain, mainly after 11am.  High near 58. Chance of precipitation is 80%. New precipitation amounts between a quarter and half of an inch possible. ', 'Saturday Night: Rain, mainly before 2am, then showers likely and possibly a thunderstorm after 2am.  Low around 53. Chance of precipitation is 90%.', 'Sunday: A chance of rain before 11am, then a slight chance of showers and thunderstorms after 11am.  Partly sunny, with a high near 59.', 'Sunday Night: A slight chance of showers and thunderstorms.  Partly cloudy, with a low around 51.']\n"
     ]
    }
   ],
   "source": [
    "# afficher les listes des petites description puis des température puis des grandes descriptions\n",
    "short_desc = [sd.get_text() for sd in seven_day.select(\".tombstone-container .short-desc\")]\n",
    "temps = [t.get_text() for t in seven_day.select(\".tombstone-container .temp\")]\n",
    "descs = [d['title'] for d in seven_day.select(\".tombstone-container img\")]\n",
    "\n",
    "print(short_desc)\n",
    "print(temps)\n",
    "print(descs)"
   ]
  },
  {
   "cell_type": "markdown",
   "metadata": {},
   "source": [
    "## Affichage du résultat avec pandas"
   ]
  },
  {
   "cell_type": "code",
   "execution_count": 20,
   "metadata": {},
   "outputs": [],
   "source": [
    "import pandas as pd\n",
    "weather = pd.DataFrame({\n",
    "    \"period\": periods,\n",
    "    \"short_desc\": short_desc,\n",
    "    \"temp\": temps,\n",
    "    \"desc\": descs\n",
    "})"
   ]
  },
  {
   "cell_type": "code",
   "execution_count": 21,
   "metadata": {},
   "outputs": [
    {
     "data": {
      "text/html": [
       "<div>\n",
       "<style scoped>\n",
       "    .dataframe tbody tr th:only-of-type {\n",
       "        vertical-align: middle;\n",
       "    }\n",
       "\n",
       "    .dataframe tbody tr th {\n",
       "        vertical-align: top;\n",
       "    }\n",
       "\n",
       "    .dataframe thead th {\n",
       "        text-align: right;\n",
       "    }\n",
       "</style>\n",
       "<table border=\"1\" class=\"dataframe\">\n",
       "  <thead>\n",
       "    <tr style=\"text-align: right;\">\n",
       "      <th></th>\n",
       "      <th>period</th>\n",
       "      <th>short_desc</th>\n",
       "      <th>temp</th>\n",
       "      <th>desc</th>\n",
       "    </tr>\n",
       "  </thead>\n",
       "  <tbody>\n",
       "    <tr>\n",
       "      <th>0</th>\n",
       "      <td>Overnight</td>\n",
       "      <td>Showers</td>\n",
       "      <td>Low: 53 °F</td>\n",
       "      <td>Overnight: Showers and possibly a thunderstorm...</td>\n",
       "    </tr>\n",
       "    <tr>\n",
       "      <th>1</th>\n",
       "      <td>Thursday</td>\n",
       "      <td>Showers</td>\n",
       "      <td>High: 56 °F</td>\n",
       "      <td>Thursday: Showers and possibly a thunderstorm....</td>\n",
       "    </tr>\n",
       "    <tr>\n",
       "      <th>2</th>\n",
       "      <td>ThursdayNight</td>\n",
       "      <td>Chance Rainthen SlightChance Rain</td>\n",
       "      <td>Low: 52 °F</td>\n",
       "      <td>Thursday Night: A 50 percent chance of rain, m...</td>\n",
       "    </tr>\n",
       "    <tr>\n",
       "      <th>3</th>\n",
       "      <td>Friday</td>\n",
       "      <td>GradualClearing</td>\n",
       "      <td>High: 60 °F</td>\n",
       "      <td>Friday: Cloudy through mid morning, then gradu...</td>\n",
       "    </tr>\n",
       "    <tr>\n",
       "      <th>4</th>\n",
       "      <td>FridayNight</td>\n",
       "      <td>Mostly Cloudy</td>\n",
       "      <td>Low: 52 °F</td>\n",
       "      <td>Friday Night: Mostly cloudy, with a low around...</td>\n",
       "    </tr>\n",
       "    <tr>\n",
       "      <th>5</th>\n",
       "      <td>Saturday</td>\n",
       "      <td>Rain</td>\n",
       "      <td>High: 58 °F</td>\n",
       "      <td>Saturday: Rain, mainly after 11am.  High near ...</td>\n",
       "    </tr>\n",
       "    <tr>\n",
       "      <th>6</th>\n",
       "      <td>SaturdayNight</td>\n",
       "      <td>Showers</td>\n",
       "      <td>Low: 53 °F</td>\n",
       "      <td>Saturday Night: Rain, mainly before 2am, then ...</td>\n",
       "    </tr>\n",
       "    <tr>\n",
       "      <th>7</th>\n",
       "      <td>Sunday</td>\n",
       "      <td>ChanceShowers thenSlight ChanceT-storms</td>\n",
       "      <td>High: 59 °F</td>\n",
       "      <td>Sunday: A chance of rain before 11am, then a s...</td>\n",
       "    </tr>\n",
       "    <tr>\n",
       "      <th>8</th>\n",
       "      <td>SundayNight</td>\n",
       "      <td>Slight ChanceT-storms</td>\n",
       "      <td>Low: 51 °F</td>\n",
       "      <td>Sunday Night: A slight chance of showers and t...</td>\n",
       "    </tr>\n",
       "  </tbody>\n",
       "</table>\n",
       "</div>"
      ],
      "text/plain": [
       "          period                               short_desc         temp  \\\n",
       "0      Overnight                                  Showers   Low: 53 °F   \n",
       "1       Thursday                                  Showers  High: 56 °F   \n",
       "2  ThursdayNight        Chance Rainthen SlightChance Rain   Low: 52 °F   \n",
       "3         Friday                          GradualClearing  High: 60 °F   \n",
       "4    FridayNight                            Mostly Cloudy   Low: 52 °F   \n",
       "5       Saturday                                     Rain  High: 58 °F   \n",
       "6  SaturdayNight                                  Showers   Low: 53 °F   \n",
       "7         Sunday  ChanceShowers thenSlight ChanceT-storms  High: 59 °F   \n",
       "8    SundayNight                    Slight ChanceT-storms   Low: 51 °F   \n",
       "\n",
       "                                                desc  \n",
       "0  Overnight: Showers and possibly a thunderstorm...  \n",
       "1  Thursday: Showers and possibly a thunderstorm....  \n",
       "2  Thursday Night: A 50 percent chance of rain, m...  \n",
       "3  Friday: Cloudy through mid morning, then gradu...  \n",
       "4  Friday Night: Mostly cloudy, with a low around...  \n",
       "5  Saturday: Rain, mainly after 11am.  High near ...  \n",
       "6  Saturday Night: Rain, mainly before 2am, then ...  \n",
       "7  Sunday: A chance of rain before 11am, then a s...  \n",
       "8  Sunday Night: A slight chance of showers and t...  "
      ]
     },
     "execution_count": 21,
     "metadata": {},
     "output_type": "execute_result"
    }
   ],
   "source": [
    "weather"
   ]
  },
  {
   "cell_type": "code",
   "execution_count": null,
   "metadata": {},
   "outputs": [],
   "source": []
  }
 ],
 "metadata": {
  "kernelspec": {
   "display_name": "Python 3",
   "language": "python",
   "name": "python3"
  },
  "language_info": {
   "codemirror_mode": {
    "name": "ipython",
    "version": 3
   },
   "file_extension": ".py",
   "mimetype": "text/x-python",
   "name": "python",
   "nbconvert_exporter": "python",
   "pygments_lexer": "ipython3",
   "version": "3.7.6"
  }
 },
 "nbformat": 4,
 "nbformat_minor": 2
}
