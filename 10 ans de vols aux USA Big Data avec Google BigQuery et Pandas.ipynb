{
 "cells": [
  {
   "cell_type": "markdown",
   "metadata": {},
   "source": [
    "# Analyse Big Data avec Google BigQuery et Pandas / 10 ans de vols aux USA"
   ]
  },
  {
   "cell_type": "markdown",
   "metadata": {},
   "source": [
    "Rendez vous sur l'interface - https://bigquery.cloud.google.com/ et créez le projet datawagon. \n",
    "\n",
    "Vous devrez renseigner vos coordonnées bancaires pour pouvoir activer votre compte. Vous bénéficiez par défaut d'une première période de test. Vous pouvez consulter les tarifs sur cette page - https://cloud.google.com/bigquery/pricing\n",
    "\n",
    "Vous pouvez enfin modifier vos projets, leurs droits d'accés ainsi que vos informations de paiement au sein de votre console - https://console.developers.google.com/"
   ]
  },
  {
   "cell_type": "markdown",
   "metadata": {},
   "source": [
    "Les projets auxquels vous avez accès sont affichés sur la gauche. Au sein de chaque projet vous retrouvez un ou plusieurs set de données. "
   ]
  },
  {
   "cell_type": "markdown",
   "metadata": {},
   "source": [
    "<img src='files/images/projets-bq.png'>"
   ]
  },
  {
   "cell_type": "markdown",
   "metadata": {},
   "source": [
    "BigQuery offre également une interface de requêtage type SQL accessible depuis votre navigateur web : "
   ]
  },
  {
   "cell_type": "markdown",
   "metadata": {},
   "source": [
    "<img src='files/images/queries.png'>"
   ]
  },
  {
   "cell_type": "markdown",
   "metadata": {},
   "source": [
    "Il vous est enfin possible d'importer vos propres données, en utilisant l'utilitaire d'import de données en ligne, ou en passant par la plateforme Google Cloud Storage. "
   ]
  },
  {
   "cell_type": "markdown",
   "metadata": {},
   "source": [
    "Dans cet exercice, nous allons utiliser le projet `bigquery-samples:airline_ontime_data.flights`.\n",
    "\n",
    "Ce dataset est public et liste les informations de vols d'avion aux Etats Unis entre 2002 et 2012. Il contient 70+ millions de lignes et pèse environ 8Go. \n",
    "\n",
    "Vous  pouvons compter le nombre de lignes de ce dataset en exécutant la requête suivante : "
   ]
  },
  {
   "cell_type": "code",
   "execution_count": null,
   "metadata": {},
   "outputs": [],
   "source": [
    "SELECT COUNT(*) FROM [bigquery-samples:airline_ontime_data.flights]"
   ]
  },
  {
   "cell_type": "markdown",
   "metadata": {},
   "source": [
    "Nous allons copier cette table, au sein de notre projet en utilisant l'option **copy table** accessible depuis le menu à droite de la table flights :"
   ]
  },
  {
   "cell_type": "markdown",
   "metadata": {},
   "source": [
    "<img src='files/images/copy-table.png'>"
   ]
  },
  {
   "cell_type": "markdown",
   "metadata": {},
   "source": [
    "## C'est parti !"
   ]
  },
  {
   "cell_type": "code",
   "execution_count": null,
   "metadata": {},
   "outputs": [],
   "source": [
    "import pandas as pd\n",
    "import matplotlib.pyplot as plt\n",
    "%matplotlib inline\n",
    "import numpy as np"
   ]
  },
  {
   "cell_type": "code",
   "execution_count": null,
   "metadata": {},
   "outputs": [],
   "source": [
    "from ggplot import *"
   ]
  },
  {
   "cell_type": "code",
   "execution_count": null,
   "metadata": {},
   "outputs": [],
   "source": [
    "pd.options.display.mpl_style = 'default'"
   ]
  },
  {
   "cell_type": "markdown",
   "metadata": {},
   "source": [
    "### Evolution temporelle"
   ]
  },
  {
   "cell_type": "code",
   "execution_count": null,
   "metadata": {},
   "outputs": [],
   "source": [
    "query = 'SELECT date,COUNT(*) as count FROM [vols.flights] GROUP BY date'\n",
    "\n",
    "dates = pd.read_gbq(query,project_id='data-kit')"
   ]
  },
  {
   "cell_type": "code",
   "execution_count": null,
   "metadata": {},
   "outputs": [],
   "source": [
    "dates.head()"
   ]
  },
  {
   "cell_type": "code",
   "execution_count": null,
   "metadata": {},
   "outputs": [],
   "source": [
    "dates.index = pd.to_datetime(dates['date'])"
   ]
  },
  {
   "cell_type": "markdown",
   "metadata": {},
   "source": [
    "Nous pouvons ensuite apliquer notre méthode resample pour obtenir une vue du nombre de vols par mois :"
   ]
  },
  {
   "cell_type": "code",
   "execution_count": null,
   "metadata": {},
   "outputs": [],
   "source": [
    "dates.resample('M',how='sum').plot()"
   ]
  },
  {
   "cell_type": "markdown",
   "metadata": {},
   "source": [
    "En réalisant le même graphe avec une vue par aire, nous nous appercevons qu'il y a un trou de données en octobre 2012 : "
   ]
  },
  {
   "cell_type": "code",
   "execution_count": null,
   "metadata": {},
   "outputs": [],
   "source": [
    "dates.resample('M',how='sum').plot(ylim=[0,650000],kind='area')"
   ]
  },
  {
   "cell_type": "markdown",
   "metadata": {},
   "source": [
    "Nous remarquons également la baisse tendancielles des vols à partir de 2008, coincidant avec les débuts de la crise économique."
   ]
  },
  {
   "cell_type": "markdown",
   "metadata": {},
   "source": [
    "## Cartographie des aéroports US"
   ]
  },
  {
   "cell_type": "code",
   "execution_count": null,
   "metadata": {},
   "outputs": [],
   "source": [
    "import folium\n",
    "from IPython.display import HTML\n",
    "\n",
    "def inline_map(map):\n",
    "    map._build_map()\n",
    "    return HTML('<iframe srcdoc=\"{srcdoc}\" style=\"width: 100%; height: 510px; border: none\"></iframe>'.format(srcdoc=map.HTML.replace('\"', '&quot;')))"
   ]
  },
  {
   "cell_type": "markdown",
   "metadata": {},
   "source": [
    "En utilisant la librairie Folium que nous avons vu précédemment, nous pouvons cartographier le volume des principaux aéroports américains. "
   ]
  },
  {
   "cell_type": "code",
   "execution_count": null,
   "metadata": {},
   "outputs": [],
   "source": [
    "query_airport = 'SELECT departure_airport,departure_lat,departure_lon,COUNT(*) as count FROM [vols.flights] GROUP BY departure_airport,departure_lat,departure_lon'\n",
    "\n",
    "airport = pd.read_gbq(query_airport,project_id='data-kit')"
   ]
  },
  {
   "cell_type": "code",
   "execution_count": null,
   "metadata": {},
   "outputs": [],
   "source": [
    "airport.head()"
   ]
  },
  {
   "cell_type": "code",
   "execution_count": null,
   "metadata": {},
   "outputs": [],
   "source": [
    "map_airport = folium.Map(location=[35,-80], zoom_start=3)"
   ]
  },
  {
   "cell_type": "markdown",
   "metadata": {},
   "source": [
    "Afin de représenter les aéroports sous la forme de bulles dont la taille est fonction du nombre de vols à leur départ, nous allons appliquer une mise à l'échelle. "
   ]
  },
  {
   "cell_type": "code",
   "execution_count": null,
   "metadata": {},
   "outputs": [],
   "source": [
    "airport['size'] = (airport['count'] / np.max(airport['count'])) * 200000"
   ]
  },
  {
   "cell_type": "code",
   "execution_count": null,
   "metadata": {},
   "outputs": [],
   "source": [
    "airport.sort('count',ascending=False).head()"
   ]
  },
  {
   "cell_type": "code",
   "execution_count": null,
   "metadata": {},
   "outputs": [],
   "source": [
    "for x in airport.values:\n",
    "    location = []\n",
    "    location.append(x[1])\n",
    "    location.append(x[2])\n",
    "    map_airport.circle_marker(location,radius=x[4],fill_color='red',line_color='none',popup=x[0])"
   ]
  },
  {
   "cell_type": "code",
   "execution_count": null,
   "metadata": {},
   "outputs": [],
   "source": [
    "inline_map(map_airport)"
   ]
  },
  {
   "cell_type": "markdown",
   "metadata": {},
   "source": [
    "## Analyse du retard moyen"
   ]
  },
  {
   "cell_type": "markdown",
   "metadata": {},
   "source": [
    "Nous pouvons analyser le retard moyen des vols en prenant par exemple le retard à par compagnie aérienne "
   ]
  },
  {
   "cell_type": "markdown",
   "metadata": {},
   "source": [
    "Cette requête peut s'écrire : "
   ]
  },
  {
   "cell_type": "code",
   "execution_count": 34,
   "metadata": {},
   "outputs": [
    {
     "name": "stdout",
     "output_type": "stream",
     "text": [
      "Job not yet complete...\n"
     ]
    }
   ],
   "source": [
    "query_delay_airline = 'SELECT airline,COUNT(*) AS count,AVG(arrival_delay) AS retard FROM [vols.flights] GROUP BY airline'\n",
    "\n",
    "delay = pd.read_gbq(query_delay_airline,project_id='data-kit')"
   ]
  },
  {
   "cell_type": "code",
   "execution_count": 35,
   "metadata": {},
   "outputs": [
    {
     "data": {
      "text/html": [
       "<div style=\"max-height:1000px;max-width:1500px;overflow:auto;\">\n",
       "<table border=\"1\" class=\"dataframe\">\n",
       "  <thead>\n",
       "    <tr style=\"text-align: right;\">\n",
       "      <th></th>\n",
       "      <th>airline</th>\n",
       "      <th>count</th>\n",
       "      <th>retard</th>\n",
       "    </tr>\n",
       "  </thead>\n",
       "  <tbody>\n",
       "    <tr>\n",
       "      <th>0</th>\n",
       "      <td> FL</td>\n",
       "      <td>  2182427</td>\n",
       "      <td> 6.962992</td>\n",
       "    </tr>\n",
       "    <tr>\n",
       "      <th>1</th>\n",
       "      <td> WN</td>\n",
       "      <td> 11723133</td>\n",
       "      <td> 4.314530</td>\n",
       "    </tr>\n",
       "    <tr>\n",
       "      <th>2</th>\n",
       "      <td> HP</td>\n",
       "      <td>   768655</td>\n",
       "      <td> 3.953741</td>\n",
       "    </tr>\n",
       "    <tr>\n",
       "      <th>3</th>\n",
       "      <td> DL</td>\n",
       "      <td>  6607317</td>\n",
       "      <td> 5.195066</td>\n",
       "    </tr>\n",
       "    <tr>\n",
       "      <th>4</th>\n",
       "      <td> OH</td>\n",
       "      <td>  1698485</td>\n",
       "      <td> 7.828057</td>\n",
       "    </tr>\n",
       "  </tbody>\n",
       "</table>\n",
       "</div>"
      ],
      "text/plain": [
       "  airline     count    retard\n",
       "0      FL   2182427  6.962992\n",
       "1      WN  11723133  4.314530\n",
       "2      HP    768655  3.953741\n",
       "3      DL   6607317  5.195066\n",
       "4      OH   1698485  7.828057"
      ]
     },
     "execution_count": 35,
     "metadata": {},
     "output_type": "execute_result"
    }
   ],
   "source": [
    "delay.head()"
   ]
  },
  {
   "cell_type": "code",
   "execution_count": 36,
   "metadata": {},
   "outputs": [
    {
     "data": {
      "image/png": "[encoded data removed]",
      "text/plain": [
       "<matplotlib.figure.Figure at 0x111843e50>"
      ]
     },
     "metadata": {},
     "output_type": "display_data"
    },
    {
     "data": {
      "text/plain": [
       "<ggplot: (286802781)>"
      ]
     },
     "execution_count": 36,
     "metadata": {},
     "output_type": "execute_result"
    }
   ],
   "source": [
    "ggplot(delay, aes(x='count', y='retard', label='airline')) +\\\n",
    "    geom_text()"
   ]
  },
  {
   "cell_type": "markdown",
   "metadata": {},
   "source": [
    "Nous pouvons appliquer la même méthode par Etats, en prenant par exemple l'Etat d'arrivée"
   ]
  },
  {
   "cell_type": "code",
   "execution_count": 37,
   "metadata": {},
   "outputs": [
    {
     "name": "stdout",
     "output_type": "stream",
     "text": [
      "Job not yet complete...\n"
     ]
    }
   ],
   "source": [
    "query_delay = 'SELECT arrival_state,COUNT(*) AS count,AVG(arrival_delay) AS retard FROM [vols.flights] GROUP BY arrival_state'\n",
    "\n",
    "delay = pd.read_gbq(query_delay,project_id='data-kit')"
   ]
  },
  {
   "cell_type": "code",
   "execution_count": 38,
   "metadata": {},
   "outputs": [
    {
     "data": {
      "image/png": "[encoded data removed]",
      "text/plain": [
       "<matplotlib.figure.Figure at 0x1121c7cd0>"
      ]
     },
     "metadata": {},
     "output_type": "display_data"
    },
    {
     "data": {
      "text/plain": [
       "<ggplot: (285049065)>"
      ]
     },
     "execution_count": 38,
     "metadata": {},
     "output_type": "execute_result"
    }
   ],
   "source": [
    "ggplot(delay, aes(x='count', y='retard', label='arrival_state')) +\\\n",
    "    geom_text()"
   ]
  },
  {
   "cell_type": "markdown",
   "metadata": {},
   "source": [
    "On peut également analyser les routes présentant le plus grand retard moyen.\n",
    "\n",
    "On peut réaliser cela grâce à la requête : "
   ]
  },
  {
   "cell_type": "code",
   "execution_count": 39,
   "metadata": {},
   "outputs": [
    {
     "name": "stdout",
     "output_type": "stream",
     "text": [
      "Job not yet complete...\n"
     ]
    }
   ],
   "source": [
    "query_delay_interstate = 'SELECT departure_state,arrival_state,COUNT(*) AS count,AVG(arrival_delay) AS retard FROM [vols.flights] GROUP BY departure_state,arrival_state'\n",
    "\n",
    "delay_interstate = pd.read_gbq(query_delay_interstate,project_id='data-kit')"
   ]
  },
  {
   "cell_type": "markdown",
   "metadata": {},
   "source": [
    "Nous obtenons que nous pouvons faire pivoter grâce à la méthode **pivot**"
   ]
  },
  {
   "cell_type": "code",
   "execution_count": 40,
   "metadata": {},
   "outputs": [
    {
     "data": {
      "text/html": [
       "<div style=\"max-height:1000px;max-width:1500px;overflow:auto;\">\n",
       "<table border=\"1\" class=\"dataframe\">\n",
       "  <thead>\n",
       "    <tr style=\"text-align: right;\">\n",
       "      <th></th>\n",
       "      <th>departure_state</th>\n",
       "      <th>arrival_state</th>\n",
       "      <th>count</th>\n",
       "      <th>retard</th>\n",
       "    </tr>\n",
       "  </thead>\n",
       "  <tbody>\n",
       "    <tr>\n",
       "      <th>0</th>\n",
       "      <td> CO</td>\n",
       "      <td> CO</td>\n",
       "      <td> 277339</td>\n",
       "      <td> 5.390623</td>\n",
       "    </tr>\n",
       "    <tr>\n",
       "      <th>1</th>\n",
       "      <td> AL</td>\n",
       "      <td> CO</td>\n",
       "      <td>   8615</td>\n",
       "      <td> 4.167266</td>\n",
       "    </tr>\n",
       "    <tr>\n",
       "      <th>2</th>\n",
       "      <td> OH</td>\n",
       "      <td> CO</td>\n",
       "      <td>  30817</td>\n",
       "      <td> 2.032677</td>\n",
       "    </tr>\n",
       "    <tr>\n",
       "      <th>3</th>\n",
       "      <td> NC</td>\n",
       "      <td> CO</td>\n",
       "      <td>  21996</td>\n",
       "      <td> 3.152028</td>\n",
       "    </tr>\n",
       "    <tr>\n",
       "      <th>4</th>\n",
       "      <td> TX</td>\n",
       "      <td> CO</td>\n",
       "      <td> 261856</td>\n",
       "      <td> 5.658564</td>\n",
       "    </tr>\n",
       "  </tbody>\n",
       "</table>\n",
       "</div>"
      ],
      "text/plain": [
       "  departure_state arrival_state   count    retard\n",
       "0              CO            CO  277339  5.390623\n",
       "1              AL            CO    8615  4.167266\n",
       "2              OH            CO   30817  2.032677\n",
       "3              NC            CO   21996  3.152028\n",
       "4              TX            CO  261856  5.658564"
      ]
     },
     "execution_count": 40,
     "metadata": {},
     "output_type": "execute_result"
    }
   ],
   "source": [
    "delay_interstate.head()"
   ]
  },
  {
   "cell_type": "code",
   "execution_count": 42,
   "metadata": {},
   "outputs": [
    {
     "data": {
      "text/html": [
       "<div style=\"max-height:1000px;max-width:1500px;overflow:auto;\">\n",
       "<table border=\"1\" class=\"dataframe\">\n",
       "  <thead>\n",
       "    <tr style=\"text-align: right;\">\n",
       "      <th></th>\n",
       "      <th>departure_state</th>\n",
       "      <th>arrival_state</th>\n",
       "      <th>count</th>\n",
       "      <th>retard</th>\n",
       "    </tr>\n",
       "  </thead>\n",
       "  <tbody>\n",
       "    <tr>\n",
       "      <th>1464</th>\n",
       "      <td> OK</td>\n",
       "      <td> LA</td>\n",
       "      <td> 1</td>\n",
       "      <td>-17</td>\n",
       "    </tr>\n",
       "    <tr>\n",
       "      <th>1456</th>\n",
       "      <td> SC</td>\n",
       "      <td> AL</td>\n",
       "      <td> 1</td>\n",
       "      <td>-23</td>\n",
       "    </tr>\n",
       "    <tr>\n",
       "      <th>1455</th>\n",
       "      <td> OR</td>\n",
       "      <td> WI</td>\n",
       "      <td> 1</td>\n",
       "      <td> 37</td>\n",
       "    </tr>\n",
       "    <tr>\n",
       "      <th>1491</th>\n",
       "      <td> NE</td>\n",
       "      <td> AL</td>\n",
       "      <td> 1</td>\n",
       "      <td> 25</td>\n",
       "    </tr>\n",
       "    <tr>\n",
       "      <th>336 </th>\n",
       "      <td> SC</td>\n",
       "      <td> AR</td>\n",
       "      <td> 1</td>\n",
       "      <td> 60</td>\n",
       "    </tr>\n",
       "  </tbody>\n",
       "</table>\n",
       "</div>"
      ],
      "text/plain": [
       "     departure_state arrival_state  count  retard\n",
       "1464              OK            LA      1     -17\n",
       "1456              SC            AL      1     -23\n",
       "1455              OR            WI      1      37\n",
       "1491              NE            AL      1      25\n",
       "336               SC            AR      1      60"
      ]
     },
     "execution_count": 42,
     "metadata": {},
     "output_type": "execute_result"
    }
   ],
   "source": [
    "delay_interstate.sort('count',ascending=True).head()"
   ]
  },
  {
   "cell_type": "code",
   "execution_count": 43,
   "metadata": {},
   "outputs": [],
   "source": [
    "delay_interstate2 = delay_interstate[delay_interstate['count'] > 10000]"
   ]
  },
  {
   "cell_type": "code",
   "execution_count": 44,
   "metadata": {},
   "outputs": [],
   "source": [
    "pivot_airports = delay_interstate2.pivot('departure_state','arrival_state','retard').fillna(0)"
   ]
  },
  {
   "cell_type": "code",
   "execution_count": 45,
   "metadata": {},
   "outputs": [
    {
     "data": {
      "text/html": [
       "<div style=\"max-height:1000px;max-width:1500px;overflow:auto;\">\n",
       "<table border=\"1\" class=\"dataframe\">\n",
       "  <thead>\n",
       "    <tr style=\"text-align: right;\">\n",
       "      <th>arrival_state</th>\n",
       "      <th>AK</th>\n",
       "      <th>AL</th>\n",
       "      <th>AR</th>\n",
       "      <th>AZ</th>\n",
       "      <th>CA</th>\n",
       "      <th>CO</th>\n",
       "      <th>CT</th>\n",
       "      <th>FL</th>\n",
       "      <th>GA</th>\n",
       "      <th>HI</th>\n",
       "      <th>...</th>\n",
       "      <th>TN</th>\n",
       "      <th>TX</th>\n",
       "      <th>UT</th>\n",
       "      <th>VA</th>\n",
       "      <th>VI</th>\n",
       "      <th>VT</th>\n",
       "      <th>WA</th>\n",
       "      <th>WI</th>\n",
       "      <th>WV</th>\n",
       "      <th>WY</th>\n",
       "    </tr>\n",
       "    <tr>\n",
       "      <th>departure_state</th>\n",
       "      <th></th>\n",
       "      <th></th>\n",
       "      <th></th>\n",
       "      <th></th>\n",
       "      <th></th>\n",
       "      <th></th>\n",
       "      <th></th>\n",
       "      <th></th>\n",
       "      <th></th>\n",
       "      <th></th>\n",
       "      <th></th>\n",
       "      <th></th>\n",
       "      <th></th>\n",
       "      <th></th>\n",
       "      <th></th>\n",
       "      <th></th>\n",
       "      <th></th>\n",
       "      <th></th>\n",
       "      <th></th>\n",
       "      <th></th>\n",
       "      <th></th>\n",
       "    </tr>\n",
       "  </thead>\n",
       "  <tbody>\n",
       "    <tr>\n",
       "      <th>AK</th>\n",
       "      <td> 5.794051</td>\n",
       "      <td> 0</td>\n",
       "      <td> 0</td>\n",
       "      <td> 0.000000</td>\n",
       "      <td> 0.000000</td>\n",
       "      <td> 0.000000</td>\n",
       "      <td> 0</td>\n",
       "      <td> 0.000000</td>\n",
       "      <td> 0.000000</td>\n",
       "      <td> 0.000000</td>\n",
       "      <td>...</td>\n",
       "      <td> 0.000000</td>\n",
       "      <td> 0.000000</td>\n",
       "      <td> 0.000000</td>\n",
       "      <td> 0.000000</td>\n",
       "      <td> 0</td>\n",
       "      <td> 0</td>\n",
       "      <td> 2.877099</td>\n",
       "      <td> 0.000000</td>\n",
       "      <td> 0</td>\n",
       "      <td> 0</td>\n",
       "    </tr>\n",
       "    <tr>\n",
       "      <th>AL</th>\n",
       "      <td> 0.000000</td>\n",
       "      <td> 0</td>\n",
       "      <td> 0</td>\n",
       "      <td> 0.000000</td>\n",
       "      <td> 0.000000</td>\n",
       "      <td> 0.000000</td>\n",
       "      <td> 0</td>\n",
       "      <td> 4.698283</td>\n",
       "      <td> 9.165816</td>\n",
       "      <td> 0.000000</td>\n",
       "      <td>...</td>\n",
       "      <td> 2.729115</td>\n",
       "      <td> 4.480243</td>\n",
       "      <td> 0.000000</td>\n",
       "      <td> 5.678679</td>\n",
       "      <td> 0</td>\n",
       "      <td> 0</td>\n",
       "      <td> 0.000000</td>\n",
       "      <td> 0.000000</td>\n",
       "      <td> 0</td>\n",
       "      <td> 0</td>\n",
       "    </tr>\n",
       "    <tr>\n",
       "      <th>AR</th>\n",
       "      <td> 0.000000</td>\n",
       "      <td> 0</td>\n",
       "      <td> 0</td>\n",
       "      <td> 0.000000</td>\n",
       "      <td> 0.000000</td>\n",
       "      <td> 0.000000</td>\n",
       "      <td> 0</td>\n",
       "      <td> 0.000000</td>\n",
       "      <td> 9.313172</td>\n",
       "      <td> 0.000000</td>\n",
       "      <td>...</td>\n",
       "      <td> 2.790402</td>\n",
       "      <td> 6.012904</td>\n",
       "      <td> 0.000000</td>\n",
       "      <td> 0.000000</td>\n",
       "      <td> 0</td>\n",
       "      <td> 0</td>\n",
       "      <td> 0.000000</td>\n",
       "      <td> 0.000000</td>\n",
       "      <td> 0</td>\n",
       "      <td> 0</td>\n",
       "    </tr>\n",
       "    <tr>\n",
       "      <th>AZ</th>\n",
       "      <td> 0.000000</td>\n",
       "      <td> 0</td>\n",
       "      <td> 0</td>\n",
       "      <td> 1.269977</td>\n",
       "      <td> 4.320855</td>\n",
       "      <td> 3.390485</td>\n",
       "      <td> 0</td>\n",
       "      <td> 2.471156</td>\n",
       "      <td> 2.219686</td>\n",
       "      <td> 2.412271</td>\n",
       "      <td>...</td>\n",
       "      <td> 2.859147</td>\n",
       "      <td> 4.075065</td>\n",
       "      <td> 3.154835</td>\n",
       "      <td> 3.985470</td>\n",
       "      <td> 0</td>\n",
       "      <td> 0</td>\n",
       "      <td> 3.575726</td>\n",
       "      <td> 4.526789</td>\n",
       "      <td> 0</td>\n",
       "      <td> 0</td>\n",
       "    </tr>\n",
       "    <tr>\n",
       "      <th>CA</th>\n",
       "      <td> 0.000000</td>\n",
       "      <td> 0</td>\n",
       "      <td> 0</td>\n",
       "      <td> 2.998883</td>\n",
       "      <td> 5.113361</td>\n",
       "      <td> 2.822400</td>\n",
       "      <td> 0</td>\n",
       "      <td> 4.577198</td>\n",
       "      <td> 3.009820</td>\n",
       "      <td> 4.475656</td>\n",
       "      <td>...</td>\n",
       "      <td>-0.591388</td>\n",
       "      <td> 3.425330</td>\n",
       "      <td> 2.610702</td>\n",
       "      <td> 1.146147</td>\n",
       "      <td> 0</td>\n",
       "      <td> 0</td>\n",
       "      <td> 3.656830</td>\n",
       "      <td> 0.000000</td>\n",
       "      <td> 0</td>\n",
       "      <td> 0</td>\n",
       "    </tr>\n",
       "  </tbody>\n",
       "</table>\n",
       "<p>5 rows × 51 columns</p>\n",
       "</div>"
      ],
      "text/plain": [
       "arrival_state          AK  AL  AR        AZ        CA        CO  CT        FL  \\\n",
       "departure_state                                                                 \n",
       "AK               5.794051   0   0  0.000000  0.000000  0.000000   0  0.000000   \n",
       "AL               0.000000   0   0  0.000000  0.000000  0.000000   0  4.698283   \n",
       "AR               0.000000   0   0  0.000000  0.000000  0.000000   0  0.000000   \n",
       "AZ               0.000000   0   0  1.269977  4.320855  3.390485   0  2.471156   \n",
       "CA               0.000000   0   0  2.998883  5.113361  2.822400   0  4.577198   \n",
       "\n",
       "arrival_state          GA        HI ...        TN        TX        UT  \\\n",
       "departure_state                     ...                                 \n",
       "AK               0.000000  0.000000 ...  0.000000  0.000000  0.000000   \n",
       "AL               9.165816  0.000000 ...  2.729115  4.480243  0.000000   \n",
       "AR               9.313172  0.000000 ...  2.790402  6.012904  0.000000   \n",
       "AZ               2.219686  2.412271 ...  2.859147  4.075065  3.154835   \n",
       "CA               3.009820  4.475656 ... -0.591388  3.425330  2.610702   \n",
       "\n",
       "arrival_state          VA  VI  VT        WA        WI  WV  WY  \n",
       "departure_state                                                \n",
       "AK               0.000000   0   0  2.877099  0.000000   0   0  \n",
       "AL               5.678679   0   0  0.000000  0.000000   0   0  \n",
       "AR               0.000000   0   0  0.000000  0.000000   0   0  \n",
       "AZ               3.985470   0   0  3.575726  4.526789   0   0  \n",
       "CA               1.146147   0   0  3.656830  0.000000   0   0  \n",
       "\n",
       "[5 rows x 51 columns]"
      ]
     },
     "execution_count": 45,
     "metadata": {},
     "output_type": "execute_result"
    }
   ],
   "source": [
    "pivot_airports.head()"
   ]
  },
  {
   "cell_type": "markdown",
   "metadata": {},
   "source": [
    "On peut enfin représenter par une heatmap, les Etats de départ et d'arrivée, présentant le plus fort retard. \n",
    "\n",
    "Le code d'un heatmap généré avec Matplotlib est inspiré de ce post - http://datasets.flowingdata.com/ppg2008.csv"
   ]
  },
  {
   "cell_type": "code",
   "execution_count": 46,
   "metadata": {},
   "outputs": [
    {
     "data": {
      "image/png": "[encoded data removed]",
      "text/plain": [
       "<matplotlib.figure.Figure at 0x1118661d0>"
      ]
     },
     "metadata": {},
     "output_type": "display_data"
    }
   ],
   "source": [
    "# Plot it out\n",
    "fig, ax = plt.subplots()\n",
    "heatmap = ax.pcolor(pivot_airports, cmap=plt.cm.Blues, alpha=0.9)\n",
    "\n",
    "fig = plt.gcf()\n",
    "fig.set_size_inches(20,20)\n",
    "\n",
    "# turn off the frame\n",
    "ax.set_frame_on(False)\n",
    "\n",
    "# put the major ticks at the middle of each cell\n",
    "ax.set_yticks(np.arange(pivot_airports.shape[0])+0.5, minor=False)\n",
    "ax.set_xticks(np.arange(pivot_airports.shape[1])+0.5, minor=False)\n",
    "\n",
    "# want a more natural, table-like display\n",
    "ax.invert_yaxis()\n",
    "ax.xaxis.tick_top()\n",
    "\n",
    "ax.set_xticklabels(pivot_airports.index, minor=False) \n",
    "ax.set_yticklabels(pivot_airports.columns, minor=False)\n",
    "\n",
    "# rotate the \n",
    "plt.xticks(rotation=90)\n",
    "\n",
    "ax.grid(False)\n",
    "\n",
    "for t in ax.xaxis.get_major_ticks(): \n",
    "    t.tick1On = False \n",
    "    t.tick2On = False \n",
    "for t in ax.yaxis.get_major_ticks(): \n",
    "    t.tick1On = False \n",
    "    t.tick2On = False  "
   ]
  },
  {
   "cell_type": "code",
   "execution_count": null,
   "metadata": {},
   "outputs": [],
   "source": []
  }
 ],
 "metadata": {
  "kernelspec": {
   "display_name": "Python 3",
   "language": "python",
   "name": "python3"
  },
  "language_info": {
   "codemirror_mode": {
    "name": "ipython",
    "version": 3
   },
   "file_extension": ".py",
   "mimetype": "text/x-python",
   "name": "python",
   "nbconvert_exporter": "python",
   "pygments_lexer": "ipython3",
   "version": "3.7.6"
  }
 },
 "nbformat": 4,
 "nbformat_minor": 1
}
