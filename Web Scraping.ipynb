{
 "cells": [
  {
   "cell_type": "markdown",
   "metadata": {},
   "source": [
    "## Web Scraping"
   ]
  },
  {
   "cell_type": "code",
   "execution_count": 1,
   "metadata": {},
   "outputs": [],
   "source": [
    "import requests"
   ]
  },
  {
   "cell_type": "code",
   "execution_count": 2,
   "metadata": {},
   "outputs": [
    {
     "name": "stdout",
     "output_type": "stream",
     "text": [
      "b'<html>\\r\\n  <head>\\r\\n      <title> Un exemple de page HTML </title>\\r\\n  </head>\\r\\n\\r\\n  <body>\\r\\n      <p>Un simple paragraphe</p>\\r\\n  </body>\\r\\n</html>'\n"
     ]
    }
   ],
   "source": [
    "response = requests.get(\"https://raw.githubusercontent.com/codelikerod/web-scraping/master/exemple1.html\")\n",
    "content = response.content\n",
    "print(content)"
   ]
  },
  {
   "cell_type": "markdown",
   "metadata": {},
   "source": [
    "## Récupérer des éléments d'une page"
   ]
  },
  {
   "cell_type": "code",
   "execution_count": 3,
   "metadata": {},
   "outputs": [],
   "source": [
    "# librairie Beautifulsoup du pacjage bs4"
   ]
  },
  {
   "cell_type": "code",
   "execution_count": 5,
   "metadata": {},
   "outputs": [],
   "source": [
    "from bs4 import BeautifulSoup"
   ]
  },
  {
   "cell_type": "code",
   "execution_count": 7,
   "metadata": {},
   "outputs": [
    {
     "name": "stdout",
     "output_type": "stream",
     "text": [
      "Un simple paragraphe\n"
     ]
    }
   ],
   "source": [
    "# on applique BeautifulSoup pour analyser le contenu précédemment téléchargé\n",
    "parser = BeautifulSoup(content, 'html.parser')\n",
    "\n",
    "# obtenir le tag body du cocument HTML\n",
    "\n",
    "body = parser.body\n",
    "\n",
    "# obetenir le tag p du body\n",
    "p = body.p\n",
    "\n",
    "# afficher le texte -- on utilise l'attribut .text\n",
    "\n",
    "print(p.text)"
   ]
  },
  {
   "cell_type": "markdown",
   "metadata": {},
   "source": [
    "## Training"
   ]
  },
  {
   "cell_type": "code",
   "execution_count": 8,
   "metadata": {},
   "outputs": [],
   "source": [
    "# récupérer le titre dans la balise head et afficher le résultat"
   ]
  },
  {
   "cell_type": "code",
   "execution_count": 11,
   "metadata": {},
   "outputs": [
    {
     "name": "stdout",
     "output_type": "stream",
     "text": [
      " Un exemple de page HTML \n"
     ]
    }
   ],
   "source": [
    "head = parser.head\n",
    "title = head.title\n",
    "print(title.text)"
   ]
  },
  {
   "cell_type": "markdown",
   "metadata": {},
   "source": [
    "## Utiliser Find All"
   ]
  },
  {
   "cell_type": "code",
   "execution_count": 12,
   "metadata": {},
   "outputs": [
    {
     "name": "stdout",
     "output_type": "stream",
     "text": [
      "[<body>\n",
      "<p>Un simple paragraphe</p>\n",
      "</body>]\n"
     ]
    }
   ],
   "source": [
    "parser = BeautifulSoup(content, 'html.parser')\n",
    "\n",
    "# obtenir tous les éléments de la balise body\n",
    "\n",
    "body = parser.find_all(\"body\")\n",
    "print(body)"
   ]
  },
  {
   "cell_type": "code",
   "execution_count": 13,
   "metadata": {},
   "outputs": [
    {
     "name": "stdout",
     "output_type": "stream",
     "text": [
      "Un simple paragraphe\n"
     ]
    }
   ],
   "source": [
    "# on récupère les éléments de la balise p dans la liste body\n",
    "p = body[0].find_all(\"p\") # body 0 car on ne récupère que le premier élément de la liste\n",
    "print(p[0].text)"
   ]
  },
  {
   "cell_type": "markdown",
   "metadata": {},
   "source": [
    "## training"
   ]
  },
  {
   "cell_type": "code",
   "execution_count": 14,
   "metadata": {},
   "outputs": [
    {
     "name": "stdout",
     "output_type": "stream",
     "text": [
      " Un exemple de page HTML \n"
     ]
    }
   ],
   "source": [
    "# récupèrer le titre dans la liste\n",
    "head = parser.find_all(\"head\")\n",
    "title = head[0].find_all(\"title\")\n",
    "title_text = title[0].text\n",
    "print(title_text)"
   ]
  },
  {
   "cell_type": "markdown",
   "metadata": {},
   "source": [
    "## Elements correspondants aux IDs"
   ]
  },
  {
   "cell_type": "code",
   "execution_count": 18,
   "metadata": {},
   "outputs": [
    {
     "name": "stdout",
     "output_type": "stream",
     "text": [
      "1er paragraphe\n"
     ]
    }
   ],
   "source": [
    "# Télécharger la page\n",
    "response = requests.get(\"https://raw.githubusercontent.com/codelikerod/web-scraping/master/exemple2.html\")\n",
    "content = response.content\n",
    "parser = BeautifulSoup(content, 'html.parser')\n",
    "\n",
    "# On va récuperer l'ID souhaité\n",
    "\n",
    "first_paragraphe = parser.find_all(\"p\", id=\"first\")[0]  # on ajoute id=first\n",
    "print(first_paragraphe.text)"
   ]
  },
  {
   "cell_type": "code",
   "execution_count": 19,
   "metadata": {},
   "outputs": [
    {
     "name": "stdout",
     "output_type": "stream",
     "text": [
      "2nd paragraphe\n"
     ]
    }
   ],
   "source": [
    "second_paragraphe = parser.find_all(\"p\", id=\"second\")[0]\n",
    "second_paragraphe_text = second_paragraphe.text\n",
    "print(second_paragraphe_text)"
   ]
  },
  {
   "cell_type": "markdown",
   "metadata": {},
   "source": [
    "## Les classes"
   ]
  },
  {
   "cell_type": "code",
   "execution_count": 21,
   "metadata": {},
   "outputs": [
    {
     "name": "stdout",
     "output_type": "stream",
     "text": [
      "1er paragraphe classe 1\n"
     ]
    }
   ],
   "source": [
    "response = requests.get(\"https://raw.githubusercontent.com/codelikerod/web-scraping/master/exemple3.html\")\n",
    "content = response.content\n",
    "parser = BeautifulSoup(content, 'html.parser')\n",
    "\n",
    "# obtenir le premier paragraphe de la class 1 \n",
    "# Trouver tous les paragraphes de la class 1 et récupèrer le premier élément\n",
    "first_class1_paragraphe = parser.find_all(\"p\", class_=\"class1\")[0]\n",
    "print(first_class1_paragraphe.text)"
   ]
  },
  {
   "cell_type": "code",
   "execution_count": 22,
   "metadata": {},
   "outputs": [
    {
     "name": "stdout",
     "output_type": "stream",
     "text": [
      "2nd paragraphe class 1\n"
     ]
    }
   ],
   "source": [
    "# récupérer le second paragraphe de la class1\n",
    "second_class1_paragraphe = parser.find_all(\"p\", class_=\"class1\")[1]\n",
    "second_class1_paragraphe_text = second_class1_paragraphe.text\n",
    "print(second_class1_paragraphe_text)"
   ]
  },
  {
   "cell_type": "code",
   "execution_count": 24,
   "metadata": {},
   "outputs": [
    {
     "name": "stdout",
     "output_type": "stream",
     "text": [
      "2nd paragraphe class 1\n"
     ]
    }
   ],
   "source": [
    "# récupérer le 1er paragraphe de la class2\n",
    "first_class2_paragraphe = parser.find_all(\"p\", class_=\"class2\")[0].text\n",
    "first_class2_paragraphe_text = second_class1_paragraphe.text\n",
    "print(first_class2_paragraphe_text)"
   ]
  },
  {
   "cell_type": "markdown",
   "metadata": {},
   "source": [
    "## Select en CSS"
   ]
  },
  {
   "cell_type": "code",
   "execution_count": 27,
   "metadata": {},
   "outputs": [
    {
     "name": "stdout",
     "output_type": "stream",
     "text": [
      "1er paragraphe classe 1\r\n",
      "      \n"
     ]
    }
   ],
   "source": [
    "# Télécharge le site web\n",
    "response = requests.get(\"https://raw.githubusercontent.com/codelikerod/web-scraping/master/exemple4.html\")\n",
    "content = response.content\n",
    "parser = BeautifulSoup(content, 'html.parser')\n",
    "\n",
    "# Sélectionner tous les éléments de la classe first-item\n",
    "first_items = parser.select(\".first-item\")\n",
    "print(first_items[0].text)"
   ]
  },
  {
   "cell_type": "code",
   "execution_count": 28,
   "metadata": {},
   "outputs": [
    {
     "name": "stdout",
     "output_type": "stream",
     "text": [
      "1er paragraphe class 2\r\n",
      "      \n"
     ]
    }
   ],
   "source": [
    "# sélectionner tous les éléments de la classe 2 et assigner le premier élément à la variable first_class2_text\n",
    "# Sélectionner tous les élément qui possèdent l'ID second et assigner le premier paragraphe à la variable second_text\n",
    "\n",
    "first_class2_text = parser.select(\".class2\")[0].text\n",
    "print(first_class2_text)\n"
   ]
  },
  {
   "cell_type": "code",
   "execution_count": 29,
   "metadata": {},
   "outputs": [
    {
     "name": "stdout",
     "output_type": "stream",
     "text": [
      "1er paragraphe class 2\r\n",
      "      \n"
     ]
    }
   ],
   "source": [
    "second_text = parser.select(\"#second\")[0].text\n",
    "print(second_text)"
   ]
  },
  {
   "cell_type": "markdown",
   "metadata": {},
   "source": [
    "## Associer des sélecteurs en CSS"
   ]
  },
  {
   "cell_type": "code",
   "execution_count": 30,
   "metadata": {},
   "outputs": [],
   "source": [
    "# Documents html / comporte le résultat du match psg vs chelsea"
   ]
  },
  {
   "cell_type": "code",
   "execution_count": 31,
   "metadata": {},
   "outputs": [],
   "source": [
    "# 1 Extraire le nombre de fautes de Chelsea et assigner le résultat à la variable chelsea_offences_count."
   ]
  },
  {
   "cell_type": "code",
   "execution_count": 32,
   "metadata": {},
   "outputs": [
    {
     "name": "stdout",
     "output_type": "stream",
     "text": [
      "24\n"
     ]
    }
   ],
   "source": [
    "# Télécharge les stats de psg-chelsea\n",
    "response = requests.get(\"https://raw.githubusercontent.com/codelikerod/web-scraping/master/psg-vs-chelsea.html\")\n",
    "content = response.content\n",
    "parser = BeautifulSoup(content, 'html.parser')\n",
    "\n",
    "# trouver le nombre de fautes de chelsea\n",
    "offences = parser.select(\"#fautes\")[0]\n",
    "chelsea_offences = offences.select(\"td\")[1]\n",
    "chelsea_offences_count = chelsea_offences.text\n",
    "print(chelsea_offences_count)"
   ]
  },
  {
   "cell_type": "code",
   "execution_count": 33,
   "metadata": {},
   "outputs": [
    {
     "name": "stdout",
     "output_type": "stream",
     "text": [
      "545\n"
     ]
    }
   ],
   "source": [
    "# 2 Extraire le nombre de passes réussies par le PSG et assigner le résultat à la variable psg_pass_count.\n",
    "psg_pass_count = parser.select(\"#passes\")[0].select(\"td\")[2].text\n",
    "print(psg_pass_count)\n"
   ]
  },
  {
   "cell_type": "code",
   "execution_count": null,
   "metadata": {},
   "outputs": [],
   "source": []
  }
 ],
 "metadata": {
  "kernelspec": {
   "display_name": "Python 3",
   "language": "python",
   "name": "python3"
  },
  "language_info": {
   "codemirror_mode": {
    "name": "ipython",
    "version": 3
   },
   "file_extension": ".py",
   "mimetype": "text/x-python",
   "name": "python",
   "nbconvert_exporter": "python",
   "pygments_lexer": "ipython3",
   "version": "3.7.3"
  }
 },
 "nbformat": 4,
 "nbformat_minor": 2
}
